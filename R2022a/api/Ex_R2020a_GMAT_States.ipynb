{
 "cells": [
  {
   "cell_type": "markdown",
   "metadata": {},
   "source": [
    "# State Management with the GMAT API \n",
    "The state data in GMAT can be a bit confusing.  This notebook introduces the state variables as used for a GMAT Spacecraft, and provides some pointers on the manipulation of the state data.\n",
    "\n",
    "## Prepare the GMAT Environment\n",
    "Before the API can be used, it needs to be loaded into the Python system and initialized using a GMAT startup file.  This can be done from the GMAT bin folder by importing the gmatpy module, but using that approach tends to leave files in the bin folder that may annoy other users.  Running from an outside folder takes a few steps, which have been captured in the load_gmat.py file in the GMAT api folder.  After preparing the API for use (see the API \"read me\" file, api/API_README.txt), copy load_gmat.py into the folder you are using for Jupyter notebooks.  Then import it:"
   ]
  },
  {
   "cell_type": "code",
   "execution_count": 1,
   "metadata": {},
   "outputs": [],
   "source": [
    "from load_gmat import *"
   ]
  },
  {
   "cell_type": "markdown",
   "metadata": {},
   "source": [
    "## Configure a Spacecraft\n",
    "We'll need an object that provides the state.  Here's a basic spacecraft, along with a reference to the state data inside of the spacecraft:"
   ]
  },
  {
   "cell_type": "code",
   "execution_count": 2,
   "metadata": {},
   "outputs": [],
   "source": [
    "sat = gmat.Construct(\"Spacecraft\",\"MySat\")\n",
    "iState = sat.GetState()"
   ]
  },
  {
   "cell_type": "markdown",
   "metadata": {},
   "source": [
    "The state reference here, iState, operates on the member of the Spacecraft object that GMAT uses when running a simulation.  The \"internal state,\" referenced by iState here, is the Earth-centered mean-of-J2000 equatorial representation of position and velocity of the spacecraft MySat.  The data is contained in a GmatState object:"
   ]
  },
  {
   "cell_type": "code",
   "execution_count": 3,
   "metadata": {},
   "outputs": [
    {
     "data": {
      "text/plain": [
       "<gmat_py.GmatState; proxy of <Swig Object of type 'GmatState *' at 0x7fa89c2bb570> >"
      ]
     },
     "execution_count": 3,
     "metadata": {},
     "output_type": "execute_result"
    }
   ],
   "source": [
    "iState"
   ]
  },
  {
   "cell_type": "markdown",
   "metadata": {},
   "source": [
    "GmatState objects are used to collect together an epoch and a vector of data.  These data can be accessed directly:"
   ]
  },
  {
   "cell_type": "code",
   "execution_count": 4,
   "metadata": {},
   "outputs": [
    {
     "name": "stdout",
     "output_type": "stream",
     "text": [
      "The state epoch is  21545.000000397937 , the state has  6  elements, and contains the data  [-999.999, -999.999, -999.999, -999.999, -999.999, -999.999]\n"
     ]
    }
   ],
   "source": [
    "print(\"The state epoch is \", iState.GetEpoch(), \", the state has \", iState.GetSize(), \n",
    "      \" elements, and contains the data \", iState.GetState())"
   ]
  },
  {
   "cell_type": "markdown",
   "metadata": {},
   "source": [
    "The data shown here is the default GmatState vector data for a spacecraft.  The epoch is January 1, 2000 at 12:00:00.000 in TAIModJulian time, or 21545.00000039794 in A.1 ModJulian time.  Note that GMAT uses A.1 Mod Julian as its internal epoch system.  The state has 6 elements.  The position and velocity data are filled in with the dummy entries -999.999. \n",
    "## Working with Cartesian and Keplerian Representations\n",
    "A spacecraft in GMAT has a second collection of data: the state data for the spacecraft in the coordinate system set on the spacecraft.  These data are the spacecraft's \"display state,\" named that way because they are the data displayed to the user.  Users interact with the display state similarly to the way they interact with the scripting language.  Data for a Keplerian state can be set using the SetField() method, as shown here: "
   ]
  },
  {
   "cell_type": "code",
   "execution_count": 5,
   "metadata": {},
   "outputs": [],
   "source": [
    "sat.SetField(\"StateType\", \"Keplerian\")\n",
    "sat.SetField(\"SMA\", 7015)\n",
    "sat.SetField(\"ECC\", 0.0011)\n",
    "sat.SetField(\"INC\", 98.6)\n",
    "sat.SetField(\"RAAN\", 75)\n",
    "sat.SetField(\"AOP\", 90)\n",
    "sat.SetField(\"TA\", 33.333)"
   ]
  },
  {
   "cell_type": "markdown",
   "metadata": {},
   "source": [
    "At this point it can appear to the user that the data is set, but it really is not.  The spacecraft object cannot interpret the state data.  The data set using SetField needs more information than a spacecraft object can provide by itself.  Specifically, the spacecraft here does not have a connected coordinate system.  Cartesian state data set on the spacecraft does not have connections defining the coordinate origin, nor the structures needed to set the orientation of the axes defining directions.  Additionally, the spacecraft does not have the the gravitational constant needed to interpret Keplerian data.\n",
    "\n",
    "In this uninitialized state, the spacecraft uses its GmatState buffer to hold the data entries.  We can see that the data is not yet fully populated by posting queries to the spacecraft:"
   ]
  },
  {
   "cell_type": "code",
   "execution_count": 6,
   "metadata": {},
   "outputs": [
    {
     "name": "stdout",
     "output_type": "stream",
     "text": [
      "The internal state buffer just holds preinitialization data (Keplerian here):\n",
      "   [7015.0, 0.0011, 98.6, 75.0, 90.0, 33.333]\n",
      "but access to the Keplerian state shows that it is not correct:\n",
      "   0                0                0                0                0                0               \n"
     ]
    }
   ],
   "source": [
    "print(\"The internal state buffer just holds preinitialization data (Keplerian here):\\n  \", iState.GetState())\n",
    "print(\"but access to the Keplerian state shows that it is not correct:\\n  \", sat.GetKeplerianState())"
   ]
  },
  {
   "cell_type": "markdown",
   "metadata": {},
   "source": [
    "The Keplerian state data is not correct because the GMAT objects are not yet initialized.  Once we initialize the system, the Keplerian state will be correct, and the internal state will be updated to the EarthMJ2000Eq system.  The interobject connections necessary for these settings are made by calling the API's Initialize() function::"
   ]
  },
  {
   "cell_type": "code",
   "execution_count": 7,
   "metadata": {},
   "outputs": [
    {
     "name": "stdout",
     "output_type": "stream",
     "text": [
      "The initialized internal state buffer is EarthMJ2000Eq:\n",
      "   [-150.99058171804361, -3946.626071010534, 5789.742898439815, -2.23046049968889, -5.931020059857665, -4.095581409074377]\n",
      "and the Keplerian state is correct:\n",
      "   7015.000000000001 0.00110000000000004 98.59999999999999 75               90.00000000000402 33.33299999999598\n"
     ]
    }
   ],
   "source": [
    "gmat.Initialize()\n",
    "print(\"The initialized internal state buffer is EarthMJ2000Eq:\\n  \", iState.GetState())\n",
    "print(\"and the Keplerian state is correct:\\n  \", sat.GetKeplerianState())"
   ]
  },
  {
   "cell_type": "markdown",
   "metadata": {},
   "source": [
    "Changes made to the state variables are now applied to the state as expected:"
   ]
  },
  {
   "cell_type": "code",
   "execution_count": 8,
   "metadata": {},
   "outputs": [
    {
     "name": "stdout",
     "output_type": "stream",
     "text": [
      "Internal state:\n",
      "  [-172.19168264352888, -4500.785255607168, 6602.700383110265, -2.088638988531676, -5.553902317709759, -3.835168124650226]\n",
      "Cartesian:\n",
      "  -172.1916826435289 -4500.785255607168 6602.700383110265 -2.088638988531676 -5.553902317709759 -3.835168124650226\n",
      "Keplerian:\n",
      "  8000.000000000007 0.001100000000000707 98.59999999999999 75               90.00000000001161 33.3329999999884\n",
      "\n",
      "Internal state:\n",
      "  [-5697.7414619496, -3020.2186545041395, 4721.90552145557, 1.1208679033712874, -6.413887097497282, -2.7427113896944304]\n",
      "Cartesian:\n",
      "  -5697.7414619496 -3020.21865450414 4721.90552145557 1.120867903371287 -6.413887097497282 -2.74271138969443\n",
      "Keplerian:\n",
      "  8000.000000000011 0.001100000000000964 45.00000000000001 75.00000000000001 90.00000000001836 33.33299999998167\n",
      "\n",
      "Internal state:\n",
      "  [-5094.78342738948, -4974.9069027511405, 3633.5822378210464, 2.5169011956354206, -5.379735538828468, -3.8235178821457656]\n",
      "Cartesian:\n",
      "  -5094.78342738948 -4974.90690275114 3633.582237821046 2.516901195635421 -5.379735538828468 -3.823517882145766\n",
      "Keplerian:\n",
      "  8000.000000000012 0.001100000000001075 45.00000000000001 75.00000000000001 90.00000000002314 49.99999999999523\n"
     ]
    }
   ],
   "source": [
    "sat.SetField(\"SMA\", 8000)\n",
    "print(\"Internal state:\\n \", iState.GetState())\n",
    "print(\"Cartesian:\\n \", sat.GetCartesianState())\n",
    "print(\"Keplerian:\\n \", sat.GetKeplerianState())\n",
    "print()\n",
    "sat.SetField(\"INC\", 45)\n",
    "print(\"Internal state:\\n \", iState.GetState())\n",
    "print(\"Cartesian:\\n \", sat.GetCartesianState())\n",
    "print(\"Keplerian:\\n \", sat.GetKeplerianState())\n",
    "print()\n",
    "sat.SetField(\"TA\", 50)\n",
    "print(\"Internal state:\\n \", iState.GetState())\n",
    "print(\"Cartesian:\\n \", sat.GetCartesianState())\n",
    "print(\"Keplerian:\\n \", sat.GetKeplerianState())"
   ]
  },
  {
   "cell_type": "markdown",
   "metadata": {},
   "source": [
    "## Changing Coordinate Systems\n",
    "The previous section shows how to access Cartesian and Keplerian representations of the system.  In this section we will work with a couple of different coordinate systems: an Earth fixed coordinate system named \"ECF\" and accessed using the Python reference ecf, and a solar ecliptic system named \"SolarEcliptic,\" referenced as sec.  These coordinate systems are built using the code "
   ]
  },
  {
   "cell_type": "code",
   "execution_count": 9,
   "metadata": {},
   "outputs": [],
   "source": [
    "ecf = gmat.Construct(\"CoordinateSystem\", \"ECF\", \"Earth\", \"BodyFixed\")\n",
    "sec = gmat.Construct(\"CoordinateSystem\", \"SolarEcliptic\", \"Sun\", \"MJ2000Ec\")"
   ]
  },
  {
   "cell_type": "markdown",
   "metadata": {},
   "source": [
    "In this section, the spacecraft sat defined previously will be used with the Earth fixed coordinate system, and a copy of that spacecraft will be used with the solar ecliptic system.  GMAT's objects support a method, Copy(), that copies one object into another object of the same type.  Rather than set up a new spacecraft from scratch, we'll use that framework to get started by creating a new spacecraft and then setting the coordinate systems so that the original spacecraft uses the ECI coordinate system and the new spacecraft uses the solar ecliptic system."
   ]
  },
  {
   "cell_type": "code",
   "execution_count": 11,
   "metadata": {},
   "outputs": [],
   "source": [
    "solsat = gmat.Construct(\"Spacecraft\",\"SolarSat\")\n",
    "solsat.Copy(sat)\n",
    "\n",
    "# Now set coordinate systems\n",
    "sat.SetField(\"CoordinateSystem\",\"ECF\")\n",
    "solsat.SetField(\"CoordinateSystem\",\"SolarEcliptic\")"
   ]
  },
  {
   "cell_type": "markdown",
   "metadata": {},
   "source": [
    "We've reset the coordinate system names on the spacecraft at this point, but have yet to reset the associated objects because the Initialize() function that connects objects together has not been called since making the reassignment.  The data reflects this state of the system:"
   ]
  },
  {
   "cell_type": "code",
   "execution_count": 12,
   "metadata": {},
   "outputs": [
    {
     "name": "stdout",
     "output_type": "stream",
     "text": [
      "The spacecraft  MySat  initialization state is  True\n",
      "The internal state buffer:   [-5094.78342738948, -4974.9069027511405, 3633.5822378210464, 2.5169011956354206, -5.379735538828468, -3.8235178821457656]\n",
      "The ECF Cartesian State:     -5094.78342738948 -4974.90690275114 3633.582237821046 2.516901195635421 -5.379735538828468 -3.823517882145766\n",
      "The ECF Keplerian State:     8000.000000000012 0.001100000000001075 45.00000000000001 75.00000000000001 90.00000000002314 49.99999999999523\n",
      "\n",
      "The spacecraft  SolarSat  initialization state is  True\n",
      "The internal state buffer (SolarSat):   [-5094.78342738948, -4974.9069027511405, 3633.5822378210464, 2.5169011956354206, -5.379735538828468, -3.8235178821457656]\n",
      "The SolarEcliptic Cartesian State:      -5094.78342738948 -4974.90690275114 3633.582237821046 2.516901195635421 -5.379735538828468 -3.823517882145766\n",
      "The SolarEcliptic Keplerian State:      8000.000000000012 0.001100000000001075 45.00000000000001 75.00000000000001 90.00000000002314 49.99999999999523\n"
     ]
    }
   ],
   "source": [
    "# Show the data after setting the new coordinate systems, before initialization\n",
    "print(\"The spacecraft \", sat.GetName(), \" initialization state is \", sat.IsInitialized())\n",
    "print(\"The internal state buffer:  \", iState.GetState())\n",
    "print(\"The ECF Cartesian State:    \", sat.GetCartesianState())\n",
    "print(\"The ECF Keplerian State:    \", sat.GetKeplerianState())\n",
    "print()\n",
    "print(\"The spacecraft \", solsat.GetName(), \" initialization state is \", sat.IsInitialized())\n",
    "print(\"The internal state buffer (SolarSat):  \", solsat.GetState().GetState())\n",
    "print(\"The SolarEcliptic Cartesian State:     \", solsat.GetCartesianState())\n",
    "print(\"The SolarEcliptic Keplerian State:     \", solsat.GetKeplerianState())"
   ]
  },
  {
   "cell_type": "markdown",
   "metadata": {},
   "source": [
    "*Note that the initialization state reported here is a bug: resetting object references should toggle the initialization flag, but did not.*\n",
    "\n",
    "Once we initialize the system, replacing the coordinate system references with the correct objects, the data is once again correct:"
   ]
  },
  {
   "cell_type": "code",
   "execution_count": 13,
   "metadata": {},
   "outputs": [
    {
     "name": "stdout",
     "output_type": "stream",
     "text": [
      "The internal state buffer:   [-5094.78342738948, -4974.9069027511405, 3633.5822378210464, 2.5169011956354206, -5.379735538828468, -3.8235178821457656]\n",
      "The ECF Cartesian State:     3980.769665923232 -5904.072174047884 3633.846635804951 5.313373701951735 1.221190137730876 -3.823433741949923\n",
      "The ECF Keplerian State:     7197.70827271251 0.1106817774544226 47.10837940070046 152.2889390195664 322.0637563061001 179.5887814511714\n",
      "\n",
      "The internal state buffer (SolarSat):   [-5094.78342738948, -4974.9069027511405, 3633.5822378210464, 2.5169011956354206, -5.379735538828468, -3.8235178821457656]\n",
      "The SolarEcliptic Cartesian State:      -26505087.9080278 144694001.6268158 4700.442019894719 -27.27732399951776 -11.92620879192113 -1.367891168160935\n",
      "The SolarEcliptic Keplerian State:      144849901.1130946 0.2292154440704447 2.702016602265948 280.4191667873194 286.9680459339144 252.9931176051724\n"
     ]
    }
   ],
   "source": [
    "# Connect the GMAT objects together\n",
    "gmat.Initialize()\n",
    "\n",
    "# And show the data in the new coordinate systems\n",
    "print(\"The internal state buffer:  \", iState.GetState())\n",
    "print(\"The ECF Cartesian State:    \", sat.GetCartesianState())\n",
    "print(\"The ECF Keplerian State:    \", sat.GetKeplerianState())\n",
    "print()\n",
    "print(\"The internal state buffer (SolarSat):  \", solsat.GetState().GetState())\n",
    "print(\"The SolarEcliptic Cartesian State:     \", solsat.GetCartesianState())\n",
    "print(\"The SolarEcliptic Keplerian State:     \", solsat.GetKeplerianState())"
   ]
  },
  {
   "cell_type": "code",
   "execution_count": null,
   "metadata": {},
   "outputs": [],
   "source": []
  }
 ],
 "metadata": {
  "kernelspec": {
   "display_name": "Python 3",
   "language": "python",
   "name": "python3"
  },
  "language_info": {
   "codemirror_mode": {
    "name": "ipython",
    "version": 3
   },
   "file_extension": ".py",
   "mimetype": "text/x-python",
   "name": "python",
   "nbconvert_exporter": "python",
   "pygments_lexer": "ipython3",
   "version": "3.7.17"
  }
 },
 "nbformat": 4,
 "nbformat_minor": 2
}
